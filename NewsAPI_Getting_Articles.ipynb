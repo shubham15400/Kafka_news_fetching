{
  "cells": [
    {
      "cell_type": "markdown",
      "metadata": {
        "id": "pTCs6BCZK0mh"
      },
      "source": [
        "# NewsAPI  - Getting articles\n",
        "This API can get news articles from different sources and different topics.  \n",
        "\n",
        "Documentation for Python API can be found at:  \n",
        "https://github.com/mattlisiv/newsapi-python\n",
        "\n"
      ]
    },
    {
      "cell_type": "code",
      "execution_count": 1,
      "metadata": {
        "id": "ng9Vbp3zINxm"
      },
      "outputs": [
        {
          "name": "stdout",
          "output_type": "stream",
          "text": [
            "Requirement already satisfied: newsapi in c:\\users\\shubh\\appdata\\local\\programs\\python\\python311\\lib\\site-packages (0.1.1)\n",
            "Requirement already satisfied: requests in c:\\users\\shubh\\appdata\\local\\programs\\python\\python311\\lib\\site-packages (from newsapi) (2.31.0)\n",
            "Requirement already satisfied: charset-normalizer<4,>=2 in c:\\users\\shubh\\appdata\\local\\programs\\python\\python311\\lib\\site-packages (from requests->newsapi) (3.3.0)\n",
            "Requirement already satisfied: idna<4,>=2.5 in c:\\users\\shubh\\appdata\\local\\programs\\python\\python311\\lib\\site-packages (from requests->newsapi) (3.4)\n",
            "Requirement already satisfied: urllib3<3,>=1.21.1 in c:\\users\\shubh\\appdata\\local\\programs\\python\\python311\\lib\\site-packages (from requests->newsapi) (1.26.18)\n",
            "Requirement already satisfied: certifi>=2017.4.17 in c:\\users\\shubh\\appdata\\local\\programs\\python\\python311\\lib\\site-packages (from requests->newsapi) (2023.7.22)\n",
            "Note: you may need to restart the kernel to use updated packages.\n"
          ]
        }
      ],
      "source": [
        "pip install newsapi"
      ]
    },
    {
      "cell_type": "markdown",
      "metadata": {
        "id": "mCmagHbyLFjR"
      },
      "source": []
    },
    {
      "cell_type": "code",
      "execution_count": 2,
      "metadata": {
        "colab": {
          "base_uri": "https://localhost:8080/"
        },
        "id": "m23Tz77lIsrG",
        "outputId": "4313690c-a7f7-4b1b-a7f7-19f3b6125637"
      },
      "outputs": [
        {
          "name": "stdout",
          "output_type": "stream",
          "text": [
            "Requirement already satisfied: newsapi-python in c:\\users\\shubh\\appdata\\local\\programs\\python\\python311\\lib\\site-packages (0.2.7)Note: you may need to restart the kernel to use updated packages.\n",
            "\n",
            "Requirement already satisfied: requests<3.0.0 in c:\\users\\shubh\\appdata\\local\\programs\\python\\python311\\lib\\site-packages (from newsapi-python) (2.31.0)\n",
            "Requirement already satisfied: charset-normalizer<4,>=2 in c:\\users\\shubh\\appdata\\local\\programs\\python\\python311\\lib\\site-packages (from requests<3.0.0->newsapi-python) (3.3.0)\n",
            "Requirement already satisfied: idna<4,>=2.5 in c:\\users\\shubh\\appdata\\local\\programs\\python\\python311\\lib\\site-packages (from requests<3.0.0->newsapi-python) (3.4)\n",
            "Requirement already satisfied: urllib3<3,>=1.21.1 in c:\\users\\shubh\\appdata\\local\\programs\\python\\python311\\lib\\site-packages (from requests<3.0.0->newsapi-python) (1.26.18)\n",
            "Requirement already satisfied: certifi>=2017.4.17 in c:\\users\\shubh\\appdata\\local\\programs\\python\\python311\\lib\\site-packages (from requests<3.0.0->newsapi-python) (2023.7.22)\n"
          ]
        }
      ],
      "source": [
        "pip install newsapi-python"
      ]
    },
    {
      "cell_type": "code",
      "execution_count": 3,
      "metadata": {
        "id": "ItPYsR8tKUsy"
      },
      "outputs": [
        {
          "name": "stdout",
          "output_type": "stream",
          "text": [
            "Requirement already satisfied: kafka-python in c:\\users\\shubh\\appdata\\local\\programs\\python\\python311\\lib\\site-packages (2.0.2)\n",
            "Note: you may need to restart the kernel to use updated packages.\n"
          ]
        }
      ],
      "source": [
        "pip install kafka-python"
      ]
    },
    {
      "cell_type": "code",
      "execution_count": 5,
      "metadata": {
        "id": "WDU_AXgcI9Hd"
      },
      "outputs": [],
      "source": [
        "# Get your free API key from https://newsapi.org/, just need to sign up for an account\n",
        "key = \"56ba1070c68b4258a0bb25638215c516\""
      ]
    },
    {
      "cell_type": "code",
      "execution_count": 6,
      "metadata": {
        "colab": {
          "base_uri": "https://localhost:8080/"
        },
        "id": "hN0x3H1WHxtE",
        "outputId": "b127bce5-f0a6-43bc-b76c-49d019ee890b"
      },
      "outputs": [
        {
          "name": "stdout",
          "output_type": "stream",
          "text": [
            "UK and EU to sign new deal on small boat crossings\n",
            "France makes abortion constitutional right\n",
            "Ireland beat Wales to make it three wins in three\n",
            "Small boat smuggling gang 'dismantled' by police\n",
            "Juventus' Pogba banned for four years for doping\n",
            "Huawei's offices in France raided by financial prosecutors\n",
            "Fly-half Costelow returns for Wales trip to Dublin\n",
            "Nicolas Sarkozy gets six months for illegal campaign funding\n",
            "French warships intercept drones from Yemen\n",
            "Pioneering pet photographs revealed by museum\n",
            "The Papers: 'King has cancer' and 'women dominate Grammys'\n",
            "Europe farmers protests: EU scraps plans to halve pesticide use\n",
            "How Russia has rebranded Wagner in Africa\n",
            "'Unfair' to say Borthwick only data driven - Sinfield\n",
            "Nato chief says Donald Trump comments 'undermine all of our security'\n",
            "Scotland v England - where will the game be won?\n",
            "Where and when is Eurovision 2024 taking place?\n",
            "Dupont try helps France win sevens bronze\n",
            "Six Nations: France v Italy - radio & text\n",
            "The red card that banned Danty for rest of Six Nations\n",
            "Late TMO call denies Scotland as France hold on\n",
            "'Scotland must brace for backlash from proud France'\n",
            "France win after dramatic TMO review denies Scotland try\n",
            "Tuilagi gets France start as Italy make six changes\n",
            "Watch: Scotland score brilliant team try against France\n",
            "'After dominating France, Ireland need to avoid Italy upset'\n",
            "GB's Reekie wins indoor 800m in Lievin\n",
            "Spain beat France to win Women's Nations League\n",
            "AC Milan advance despite losing thriller to Rennes\n",
            "Fergal Keane: Aid convoy tragedy shows fear of starvation haunts Gazans\n",
            "'Wasteful Scotland left confused by late TMO twist'\n",
            "New dad Steyn eyes Scotland impact after 'screaming' at TV\n",
            "Frawley replaces injured Keenan for Ireland's Wales game\n",
            "Should this have been a try? Agony for Scotland\n",
            "'I believe that was a try' - Scotland skipper Russell on game-deciding decision\n",
            "PSG striker Mbappe agrees to join Real\n",
            "Wales aim to exploit 'massive' Dupont absence\n",
            "Mbappe tells PSG he intends to leave the club\n",
            "England to face Rep of Ireland in Euro qualifying\n",
            "German call leak due to 'individual error' - minister\n",
            "'Callow but cool Darge primed to lead by example'\n",
            "'I think he's quite good!' - Guardiola on Mbappe\n",
            "Does rugby union need new law to stop 'kick tennis'?\n",
            "Scotland seek admission of error from World Rugby\n",
            "Was there clear evidence? - Owens on crucial Scotland try decision\n",
            "Arsenal must be 'in conversation' for Mbappe - Arteta\n",
            "'The toughest draw we could get' - Republic's Gleeson\n",
            "Mbappe set to return for PSG against Real Sociedad\n",
            "Russia publishes German army meeting on Ukraine\n",
            "Dariush Mehrjui and Vahideh Mohammadifar: Man sentenced to death for murders of Iranian director and his wife\n",
            "How this tiny house flips its design with upside-down layout\n",
            "McCloskey starts as Ireland make six changes\n",
            "UK quits treaty that lets oil firms sue government\n",
            "Australia hit 10 against Uzbekistan to reach Olympics\n",
            "Pogacar wins Strade Bianche with stunning solo ride\n",
            "Russia defeat in Ukraine vital for Europe - Macron\n",
            "French readers enjoy world’s only four-year newspaper\n",
            "Nato allies reject Macron idea of troops to Ukraine\n",
            "Strasbourg Christmas market attack trial begins\n",
            "Top five moments of week two in Six Nations\n",
            "Olympic qualification on line in Women's Nations League\n",
            "Euro qualifier group 'tough but exciting' - Wiegman\n",
            "Cavendish wins stage four of Tour of Colombia\n",
            "Real Madrid looking at Varane and Casemiro - Sunday's gossip\n",
            "Marseille sack Gattuso after less than five months\n",
            "'New faces offer glimpse into exciting Ireland future'\n",
            "Musiala rejects new Bayern deal - Sunday's gossip\n",
            "Why Wales are such underdogs in Dublin\n",
            "Rashford lined up as Mbappe replacement - Sunday's gossip\n",
            "England 'clear' on how to attack Ireland - Daly\n",
            "UK Sport wants Women's World Cup bid within 15 years\n",
            "Ireland too strong for Italy in bonus-point win\n",
            "What we have learned about Wales in Six Nations\n",
            "Ireland centre Ringrose could return against Italy\n",
            "Wales not happy with plucky losers tag - Dyer\n",
            "Man City bracing for De Bruyne Saudi bids - gossip\n",
            "England's Law shoots closing 64 to win in Morocco\n",
            "Jorginho wanted by Serie A sides - Saturday's gossip\n",
            "'Why the Calcutta Cup is win or bust for Scotland'\n",
            "England jersey 'weighing heavy' - Monye\n",
            "Scotland lose Gray & Crosbie for rest of Six Nations\n",
            "What does Vladimir Putin gain from his Tucker Carlson interview?\n",
            "Israel's Rafah deadline raises stakes as Ramadan approaches\n",
            "Man Utd cautious over Toney price - Friday's gossip\n",
            "Brazil miss out on Olympics as Argentina win to qualify\n",
            "Kamara suffers 'significant' knee ligament injury\n",
            "Wales can take 'huge amount' from Ireland loss\n",
            "Ireland 'in a great place' after Italy win - Lowe\n",
            "'Italy are so close to getting a few big scalps'\n",
            "Cool captain Russell ready for England blitz\n",
            "Wales call-up uncapped prop O'Connor\n",
            "Erasmus signs as Springboks head coach until 2027\n",
            "Bethell denied first Para-Badminton world title\n",
            "England have to 'right some wrongs' in Scotland\n",
            "Kremlin runs disinformation campaign to undermine Zelensky, documents show\n",
            "World record for energy from nuclear fusion set\n",
            "Kroos announces Germany international comeback\n",
            "Botham out as Wales call up Lewis and Davies\n",
            "Wales to play June friendly in Slovakia\n",
            "Sale sign South African lock Roets for 2024-25\n"
          ]
        }
      ],
      "source": [
        "from newsapi import NewsApiClient\n",
        "import json\n",
        "from kafka import KafkaProducer\n",
        "\n",
        "# Initialize API endpoint\n",
        "newsapi = NewsApiClient(api_key=key)\n",
        "\n",
        "# Define the list of media sources\n",
        "sources = 'bbc-news,cnn,fox-news,nbc-news,the-guardian-uk,the-new-york-times,the-washington-post,usa-today,independent,daily-mail'\n",
        "\n",
        "# /v2/everything - note there are other parameters you can set\n",
        "all_articles = newsapi.get_everything(q='france',\n",
        "                                      sources=sources,\n",
        "                                      language='en')\n",
        "\n",
        "# Print the titles of the articles\n",
        "for article in all_articles['articles']:\n",
        "    print(article['title'])\n",
        "\n"
      ]
    },
    {
      "cell_type": "code",
      "execution_count": null,
      "metadata": {},
      "outputs": [],
      "source": []
    }
  ],
  "metadata": {
    "colab": {
      "provenance": []
    },
    "kernelspec": {
      "display_name": "Python 3",
      "name": "python3"
    },
    "language_info": {
      "codemirror_mode": {
        "name": "ipython",
        "version": 3
      },
      "file_extension": ".py",
      "mimetype": "text/x-python",
      "name": "python",
      "nbconvert_exporter": "python",
      "pygments_lexer": "ipython3",
      "version": "3.11.5"
    }
  },
  "nbformat": 4,
  "nbformat_minor": 0
}
