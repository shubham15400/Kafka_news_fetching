{
  "cells": [
    {
      "cell_type": "markdown",
      "metadata": {
        "id": "pTCs6BCZK0mh"
      },
      "source": [
        "# NewsAPI  - Getting articles\n",
        "This API can get news articles from different sources and different topics.  \n",
        "\n",
        "Documentation for Python API can be found at:  \n",
        "https://github.com/mattlisiv/newsapi-python\n",
        "\n"
      ]
    },
    {
      "cell_type": "code",
      "execution_count": 1,
      "metadata": {
        "id": "WDU_AXgcI9Hd"
      },
      "outputs": [],
      "source": [
        "# Get your free API key from https://newsapi.org/, just need to sign up for an account\n",
        "key = \"56ba1070c68b4258a0bb25638215c516\""
      ]
    },
    {
      "cell_type": "code",
      "execution_count": 2,
      "metadata": {
        "colab": {
          "base_uri": "https://localhost:8080/"
        },
        "id": "hN0x3H1WHxtE",
        "outputId": "b127bce5-f0a6-43bc-b76c-49d019ee890b"
      },
      "outputs": [],
      "source": [
        "from newsapi import NewsApiClient\n",
        "import json\n",
        "from confluent_kafka import Producer\n",
        "\n",
        "bootstrap_servers = \"localhost:9092\"\n",
        "\n",
        "# Create a Kafka producer to send data\n",
        "kafka_producer = Producer({'bootstrap.servers': bootstrap_servers})\n",
        "def produce_message(topic, message):\n",
        "    kafka_producer.produce(topic=topic, value=message.encode())\n",
        "\n",
        "# Initialize API endpoint\n",
        "newsapi = NewsApiClient(api_key=\"56ba1070c68b4258a0bb25638215c516\")\n",
        "\n",
        "# Define the list of media sources\n",
        "sources = 'bbc-news,cnn,fox-news,nbc-news,the-guardian-uk,the-new-york-times,the-washington-post,usa-today,independent,daily-mail,hindustan-times'\n",
        "\n",
        "# /v2/everything - note there are other parameters you can set\n",
        "all_articles = newsapi.get_everything(q='Canada', #  Search query term (optional)\n",
        "                                      sources=sources, # List of identifiers (IDs) for the\n",
        "                                      language='en') # The 2-letter ISO code of the language\n",
        "\n",
        "# Print the titles of the articles\n",
        "for article in all_articles['articles']:\n",
        "    produce_message('news-topic', article['title'])\n",
        "\n",
        "kafka_producer.flush()"
      ]
    },
    {
      "cell_type": "code",
      "execution_count": null,
      "metadata": {},
      "outputs": [],
      "source": [
        "from confluent_kafka import Consumer, KafkaError\n",
        "\n",
        "def print_error(err):\n",
        "    print(\"Error: {}\".format(err))\n",
        "\n",
        "def print_message(msg):\n",
        "    print(\"topic = {}, partition = {}, offset = {}, key = {}, value = {}\".format(\n",
        "        msg.topic(), msg.partition(), msg.offset(),\n",
        "        msg.key(), msg.value()))\n",
        "\n",
        "def consume_messages(conf):\n",
        "    consumer = Consumer(conf)\n",
        "    try:\n",
        "        consumer.subscribe([topic])\n",
        "        while True:\n",
        "            msg = consumer.poll(1.0)\n",
        "            if msg is None:\n",
        "                continue\n",
        "            if msg.error():\n",
        "                print_error(msg.error())\n",
        "            else:\n",
        "                print_message(msg)\n",
        "                consumer.commit(msg)\n",
        "    except KeyboardInterrupt:\n",
        "        print(\"Interrupted by user\")\n",
        "    finally:\n",
        "        consumer.close()\n",
        "\n",
        "topic = 'news-topic'\n",
        "conf = {'bootstrap.servers': \"localhost:9092\", 'group.id': \"News\"}\n",
        "\n"
      ]
    },
    {
      "cell_type": "code",
      "execution_count": 2,
      "metadata": {},
      "outputs": [
        {
          "name": "stdout",
          "output_type": "stream",
          "text": [
            "Requirement already satisfied: confluent-kafka in c:\\users\\shubh\\appdata\\local\\programs\\python\\python311\\lib\\site-packages (2.2.0)\n",
            "Note: you may need to restart the kernel to use updated packages.\n"
          ]
        }
      ],
      "source": [
        "pip install confluent-kafka"
      ]
    }
  ],
  "metadata": {
    "colab": {
      "provenance": []
    },
    "kernelspec": {
      "display_name": "Python 3",
      "name": "python3"
    },
    "language_info": {
      "codemirror_mode": {
        "name": "ipython",
        "version": 3
      },
      "file_extension": ".py",
      "mimetype": "text/x-python",
      "name": "python",
      "nbconvert_exporter": "python",
      "pygments_lexer": "ipython3",
      "version": "3.11.5"
    }
  },
  "nbformat": 4,
  "nbformat_minor": 0
}
